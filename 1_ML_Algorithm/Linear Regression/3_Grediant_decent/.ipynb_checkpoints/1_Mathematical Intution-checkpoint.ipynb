{
 "cells": [
  {
   "cell_type": "code",
   "execution_count": 71,
   "id": "53f621ab",
   "metadata": {},
   "outputs": [],
   "source": [
    "from sklearn.datasets import make_regression\n",
    "import numpy as np"
   ]
  },
  {
   "cell_type": "code",
   "execution_count": 72,
   "id": "373173bd",
   "metadata": {},
   "outputs": [],
   "source": [
    "x,y=make_regression(n_samples=4,n_features=1,n_informative=1,noise=80,random_state=13)"
   ]
  },
  {
   "cell_type": "code",
   "execution_count": 73,
   "id": "6b70845c",
   "metadata": {},
   "outputs": [
    {
     "data": {
      "text/plain": [
       "<matplotlib.collections.PathCollection at 0x1db7ca2a910>"
      ]
     },
     "execution_count": 73,
     "metadata": {},
     "output_type": "execute_result"
    },
    {
     "data": {
      "image/png": "[encoded data removed]",
      "text/plain": [
       "<Figure size 432x288 with 1 Axes>"
      ]
     },
     "metadata": {
      "needs_background": "light"
     },
     "output_type": "display_data"
    }
   ],
   "source": [
    "import matplotlib.pyplot as plt\n",
    "plt.scatter(x,y)"
   ]
  },
  {
   "cell_type": "code",
   "execution_count": 74,
   "id": "a729f32f",
   "metadata": {},
   "outputs": [
    {
     "data": {
      "text/plain": [
       "LinearRegression()"
      ]
     },
     "execution_count": 74,
     "metadata": {},
     "output_type": "execute_result"
    }
   ],
   "source": [
    "from sklearn.linear_model import LinearRegression\n",
    "\n",
    "lr=LinearRegression()\n",
    "lr.fit(x,y)"
   ]
  },
  {
   "cell_type": "code",
   "execution_count": 75,
   "id": "800929b2",
   "metadata": {},
   "outputs": [
    {
     "data": {
      "text/plain": [
       "array([78.35063668])"
      ]
     },
     "execution_count": 75,
     "metadata": {},
     "output_type": "execute_result"
    }
   ],
   "source": [
    "lr.coef_ "
   ]
  },
  {
   "cell_type": "code",
   "execution_count": 76,
   "id": "0ee76a07",
   "metadata": {},
   "outputs": [
    {
     "data": {
      "text/plain": [
       "26.15963284313262"
      ]
     },
     "execution_count": 76,
     "metadata": {},
     "output_type": "execute_result"
    }
   ],
   "source": [
    "lr.intercept_"
   ]
  },
  {
   "cell_type": "code",
   "execution_count": 77,
   "id": "686dc866",
   "metadata": {},
   "outputs": [
    {
     "data": {
      "text/plain": [
       "[<matplotlib.lines.Line2D at 0x1db7cacfcd0>]"
      ]
     },
     "execution_count": 77,
     "metadata": {},
     "output_type": "execute_result"
    },
    {
     "data": {
      "image/png": "[encoded data removed]",
      "text/plain": [
       "<Figure size 432x288 with 1 Axes>"
      ]
     },
     "metadata": {
      "needs_background": "light"
     },
     "output_type": "display_data"
    }
   ],
   "source": [
    "plt.scatter(x,y)\n",
    "plt.plot(x,lr.predict(x),c='r')"
   ]
  },
  {
   "cell_type": "code",
   "execution_count": 91,
   "id": "a0d7fc23",
   "metadata": {},
   "outputs": [],
   "source": [
    "# asumming the value of b = 0 , then , \n",
    "#since\n",
    "# y = mx+b\n",
    "y_pred = ((78.35*x)+0).reshape(4)"
   ]
  },
  {
   "cell_type": "code",
   "execution_count": 92,
   "id": "2296f802",
   "metadata": {},
   "outputs": [
    {
     "data": {
      "image/png": "[encoded data removed]",
      "text/plain": [
       "<Figure size 432x288 with 1 Axes>"
      ]
     },
     "metadata": {
      "needs_background": "light"
     },
     "output_type": "display_data"
    }
   ],
   "source": [
    "plt.scatter(x,y)\n",
    "plt.plot(x,lr.predict(x),c='r',label='OLS')\n",
    "plt.plot(x,y_pred,c='g',label='at b=0 ')\n",
    "plt.legend()\n",
    "plt.show()"
   ]
  },
  {
   "cell_type": "code",
   "execution_count": 93,
   "id": "f1de276d",
   "metadata": {},
   "outputs": [
    {
     "data": {
      "text/plain": [
       "-209.27763408209216"
      ]
     },
     "execution_count": 93,
     "metadata": {},
     "output_type": "execute_result"
    }
   ],
   "source": [
    "m=78.35\n",
    "b=0\n",
    "\n",
    "loss_slope = -2* np.sum(y- (m*x.ravel()) -b )\n",
    "loss_slope"
   ]
  },
  {
   "cell_type": "code",
   "execution_count": 94,
   "id": "8e639db8",
   "metadata": {},
   "outputs": [
    {
     "data": {
      "text/plain": [
       "-20.927763408209216"
      ]
     },
     "execution_count": 94,
     "metadata": {},
     "output_type": "execute_result"
    }
   ],
   "source": [
    "# let us assumme that the learning rate is 0.01\n",
    "\n",
    "lnr = 0.1\n",
    "\n",
    "step_size= loss_slope * lnr\n",
    "step_size"
   ]
  },
  {
   "cell_type": "code",
   "execution_count": 95,
   "id": "7e8c2277",
   "metadata": {},
   "outputs": [],
   "source": [
    "b = b-step_size"
   ]
  },
  {
   "cell_type": "code",
   "execution_count": 96,
   "id": "e09aa122",
   "metadata": {},
   "outputs": [
    {
     "data": {
      "text/plain": [
       "20.927763408209216"
      ]
     },
     "execution_count": 96,
     "metadata": {},
     "output_type": "execute_result"
    }
   ],
   "source": [
    "b"
   ]
  },
  {
   "cell_type": "code",
   "execution_count": 97,
   "id": "2fc27a74",
   "metadata": {},
   "outputs": [
    {
     "data": {
      "text/plain": [
       "array([-34.88804496,  56.32726015,  17.44094722,  79.98535918])"
      ]
     },
     "execution_count": 97,
     "metadata": {},
     "output_type": "execute_result"
    }
   ],
   "source": [
    "y_pred1 = ((m*x)+ b).reshape(4)\n",
    "y_pred1"
   ]
  },
  {
   "cell_type": "code",
   "execution_count": 98,
   "id": "cb674822",
   "metadata": {},
   "outputs": [
    {
     "data": {
      "image/png": "[encoded data removed]",
      "text/plain": [
       "<Figure size 432x288 with 1 Axes>"
      ]
     },
     "metadata": {
      "needs_background": "light"
     },
     "output_type": "display_data"
    }
   ],
   "source": [
    "plt.scatter(x,y)\n",
    "plt.plot(x,lr.predict(x),c='r',label='OLS')\n",
    "plt.plot(x,y_pred1,c='b',label='b=20.92')\n",
    "plt.plot(x,y_pred,c='g',label='at b=0 ')\n",
    "plt.legend()\n",
    "plt.show()"
   ]
  },
  {
   "cell_type": "code",
   "execution_count": 99,
   "id": "2d644fae",
   "metadata": {},
   "outputs": [
    {
     "data": {
      "text/plain": [
       "-41.85552681641843"
      ]
     },
     "execution_count": 99,
     "metadata": {},
     "output_type": "execute_result"
    }
   ],
   "source": [
    "#iteration 2\n",
    "\n",
    "loss_slope = -2*np.sum(y-m*x.ravel()-b)\n",
    "loss_slope\n"
   ]
  },
  {
   "cell_type": "code",
   "execution_count": 100,
   "id": "d98359fa",
   "metadata": {},
   "outputs": [
    {
     "data": {
      "text/plain": [
       "-4.185552681641844"
      ]
     },
     "execution_count": 100,
     "metadata": {},
     "output_type": "execute_result"
    }
   ],
   "source": [
    "y_pred2= (m*x + b).reshape(4)\n",
    "step_size= loss_slope*lnr\n",
    "step_size"
   ]
  },
  {
   "cell_type": "code",
   "execution_count": 101,
   "id": "f80962f0",
   "metadata": {},
   "outputs": [
    {
     "data": {
      "text/plain": [
       "25.11331608985106"
      ]
     },
     "execution_count": 101,
     "metadata": {},
     "output_type": "execute_result"
    }
   ],
   "source": [
    "b=b-step_size\n",
    "b"
   ]
  },
  {
   "cell_type": "code",
   "execution_count": 106,
   "id": "8d3a50a8",
   "metadata": {},
   "outputs": [
    {
     "data": {
      "image/png": "[encoded data removed]",
      "text/plain": [
       "<Figure size 432x288 with 1 Axes>"
      ]
     },
     "metadata": {
      "needs_background": "light"
     },
     "output_type": "display_data"
    }
   ],
   "source": [
    "plt.scatter(x,y)\n",
    "plt.plot(x,lr.predict(x),c='r',label='OLS')\n",
    "plt.plot(x,y_pred1,c='blue',label='b=20.92')\n",
    "plt.plot(x,y_pred,c='g',label='at b=0 ')\n",
    "plt.plot(x,y_pred2,c='black',label='iteration 2 ')\n",
    "plt.legend()\n",
    "plt.show()"
   ]
  },
  {
   "cell_type": "code",
   "execution_count": 107,
   "id": "3622f527",
   "metadata": {},
   "outputs": [
    {
     "data": {
      "text/plain": [
       "-8.371105363283675"
      ]
     },
     "execution_count": 107,
     "metadata": {},
     "output_type": "execute_result"
    }
   ],
   "source": [
    "# iteration 3 \n",
    "loss_slope = -2* np.sum(y-m*x.ravel()-b)\n",
    "loss_slope"
   ]
  },
  {
   "cell_type": "code",
   "execution_count": 108,
   "id": "330f2bb4",
   "metadata": {},
   "outputs": [
    {
     "data": {
      "text/plain": [
       "-0.8371105363283675"
      ]
     },
     "execution_count": 108,
     "metadata": {},
     "output_type": "execute_result"
    }
   ],
   "source": [
    "step_size =loss_slope*lnr\n",
    "step_size"
   ]
  },
  {
   "cell_type": "code",
   "execution_count": 111,
   "id": "ece37d3e",
   "metadata": {},
   "outputs": [
    {
     "data": {
      "text/plain": [
       "26.787537162507796"
      ]
     },
     "execution_count": 111,
     "metadata": {},
     "output_type": "execute_result"
    }
   ],
   "source": [
    "b=b-step_size\n",
    "b"
   ]
  },
  {
   "cell_type": "code",
   "execution_count": 112,
   "id": "cdcb7666",
   "metadata": {},
   "outputs": [],
   "source": [
    "y_pred3=((m*x)+b).reshape(4)"
   ]
  },
  {
   "cell_type": "code",
   "execution_count": 113,
   "id": "2bff510a",
   "metadata": {
    "scrolled": true
   },
   "outputs": [
    {
     "data": {
      "image/png": "[encoded data removed]",
      "text/plain": [
       "<Figure size 432x288 with 1 Axes>"
      ]
     },
     "metadata": {
      "needs_background": "light"
     },
     "output_type": "display_data"
    }
   ],
   "source": [
    "plt.scatter(x,y)\n",
    "plt.plot(x,lr.predict(x),c='r',label='OLS')\n",
    "plt.plot(x,y_pred1,c='blue',label='b=20.92')\n",
    "plt.plot(x,y_pred,c='g',label='at b=0 ')\n",
    "plt.plot(x,y_pred2,c='orange',label='iteration 2 ')\n",
    "plt.plot(x,y_pred3,c='black',label='iteration 3')\n",
    "plt.legend()\n",
    "plt.show()"
   ]
  },
  {
   "cell_type": "code",
   "execution_count": null,
   "id": "de0264fd",
   "metadata": {},
   "outputs": [],
   "source": [
    "b = 100\n",
    "m = 78.35\n",
    "\n",
    "lnr = 0.1\n",
    "epoch =100\n",
    "\n",
    "for i in range (epoch) :\n",
    "    loss_slope = -2* np.sum(y-m*x.ravel()-b)\n",
    "    step_size = loss_slope * lnr \n",
    "    b=b-step_size\n",
    "    \n",
    "    y_pred = m*x+b\n",
    "    \n",
    "    plt.plot(x,y_pred)\n",
    "    "
   ]
  },
  {
   "cell_type": "code",
   "execution_count": null,
   "id": "3c91afa9",
   "metadata": {},
   "outputs": [],
   "source": []
  }
 ],
 "metadata": {
  "kernelspec": {
   "display_name": "Python 3 (ipykernel)",
   "language": "python",
   "name": "python3"
  },
  "language_info": {
   "codemirror_mode": {
    "name": "ipython",
    "version": 3
   },
   "file_extension": ".py",
   "mimetype": "text/x-python",
   "name": "python",
   "nbconvert_exporter": "python",
   "pygments_lexer": "ipython3",
   "version": "3.9.12"
  }
 },
 "nbformat": 4,
 "nbformat_minor": 5
}
