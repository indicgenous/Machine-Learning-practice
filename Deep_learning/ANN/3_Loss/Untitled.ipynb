{
 "cells": [
  {
   "cell_type": "code",
   "execution_count": 35,
   "id": "279ab9a0",
   "metadata": {},
   "outputs": [],
   "source": [
    "import numpy as np\n",
    "from sklearn.datasets import make_classification"
   ]
  },
  {
   "cell_type": "code",
   "execution_count": 36,
   "id": "ef76780f",
   "metadata": {},
   "outputs": [],
   "source": [
    "x,y = make_classification(n_samples=100,n_features=2,n_informative=1,n_redundant = 0,\n",
    "                         n_clusters_per_class=1,random_state=41,n_classes=2,hypercube=False,class_sep=15)"
   ]
  },
  {
   "cell_type": "code",
   "execution_count": 37,
   "id": "db11c107",
   "metadata": {},
   "outputs": [
    {
     "data": {
      "text/plain": [
       "array([[ 0.35523945, -0.11697552],\n",
       "       [-0.09282829, -0.73115232],\n",
       "       [-0.1984984 , -0.7081059 ],\n",
       "       [-2.44001098, -2.01199214],\n",
       "       [-0.0448475 ,  1.63493163],\n",
       "       [-1.68155714,  0.15599044],\n",
       "       [-2.64121606,  1.07782053],\n",
       "       [ 0.2416527 ,  0.80626713],\n",
       "       [-0.40266099,  0.74859527],\n",
       "       [-2.80888854,  0.75152794],\n",
       "       [-2.62743539, -0.90114581],\n",
       "       [-2.62900445, -0.1815243 ],\n",
       "       [ 0.13405049, -2.98092432],\n",
       "       [ 0.96162631,  1.20500136],\n",
       "       [-2.67615806,  0.78302407],\n",
       "       [ 0.54329928,  0.42968688],\n",
       "       [ 0.01490532, -0.73229726],\n",
       "       [-2.72870533, -0.83930476],\n",
       "       [-0.02633711,  0.83727062],\n",
       "       [-2.61974125, -0.10255323],\n",
       "       [-3.1257262 ,  0.65867001],\n",
       "       [-2.91434094,  0.92649819],\n",
       "       [-2.16605143,  0.10216193],\n",
       "       [ 1.76642459,  0.46886454],\n",
       "       [-2.06564986,  0.45432938],\n",
       "       [ 0.7699643 ,  1.8613386 ],\n",
       "       [-2.63675549, -0.79255991],\n",
       "       [-1.89063753, -1.0004391 ],\n",
       "       [-3.24982176, -0.53814137],\n",
       "       [-2.65298044,  0.44027716],\n",
       "       [-2.28990205,  0.27047889],\n",
       "       [ 1.50589178, -0.75869267],\n",
       "       [ 0.38119367,  0.6802322 ],\n",
       "       [ 0.69287727,  0.17018845],\n",
       "       [ 0.71082659, -1.01121977],\n",
       "       [-0.16578985, -0.8394709 ],\n",
       "       [-1.8373584 ,  0.90327412],\n",
       "       [ 0.82994005,  1.16981747],\n",
       "       [-2.45828184,  0.53461406],\n",
       "       [ 0.91326394, -0.22100631],\n",
       "       [-2.17505968, -0.64584571],\n",
       "       [-1.76697885,  0.21243302],\n",
       "       [-2.20492739,  0.98654083],\n",
       "       [ 1.62468859,  0.67382928],\n",
       "       [-1.65455305, -0.11323563],\n",
       "       [ 1.23659016,  0.91694693],\n",
       "       [ 0.30266526,  0.3645213 ],\n",
       "       [-2.2223914 , -0.78470874],\n",
       "       [-1.94656681, -1.48004137],\n",
       "       [-1.76932068,  0.72931763],\n",
       "       [ 0.37619713, -0.60000139],\n",
       "       [-0.1955372 ,  0.14720034],\n",
       "       [-2.27050259,  0.35215601],\n",
       "       [ 1.1001451 ,  0.17388705],\n",
       "       [ 2.30087391, -0.17162755],\n",
       "       [-2.37614128,  0.03763193],\n",
       "       [ 1.1907852 ,  0.48360467],\n",
       "       [-2.90465727, -0.07909256],\n",
       "       [-2.18155987,  0.06158897],\n",
       "       [ 0.04984158, -1.20413846],\n",
       "       [ 1.05509794,  0.77324391],\n",
       "       [-2.17067286,  0.7640092 ],\n",
       "       [-2.81404262,  1.57200032],\n",
       "       [ 1.12698986,  0.47296516],\n",
       "       [ 0.2080691 ,  0.0642074 ],\n",
       "       [-0.50794784,  1.52469135],\n",
       "       [-2.74291312, -2.1450828 ],\n",
       "       [ 0.7501366 , -0.7701428 ],\n",
       "       [-2.40176115,  0.84455766],\n",
       "       [-1.84902622,  1.29753064],\n",
       "       [-3.24578843, -0.84276652],\n",
       "       [ 0.43136638,  2.0615874 ],\n",
       "       [ 1.2283296 , -0.3036533 ],\n",
       "       [-2.30688472, -0.1656085 ],\n",
       "       [ 1.22266657,  1.16969713],\n",
       "       [ 0.83097544, -0.3038555 ],\n",
       "       [-3.03169151, -0.4788978 ],\n",
       "       [ 1.11994315,  0.28128262],\n",
       "       [-2.16473162,  0.70412341],\n",
       "       [ 0.8718523 ,  0.3757601 ],\n",
       "       [-0.00587454,  0.97247545],\n",
       "       [ 1.497861  ,  0.56868381],\n",
       "       [-2.30937635, -0.39767934],\n",
       "       [ 1.53244693, -1.08933729],\n",
       "       [-0.20171527, -1.81663939],\n",
       "       [-2.71319932,  1.41775924],\n",
       "       [-2.63179272,  0.27098296],\n",
       "       [-2.03842409, -0.56186639],\n",
       "       [ 0.42254045,  0.42168159],\n",
       "       [-2.1372365 , -2.95373116],\n",
       "       [ 0.90762682,  0.19492133],\n",
       "       [ 1.31853452, -0.04578681],\n",
       "       [-2.00804648, -0.18860967],\n",
       "       [-2.3360828 ,  0.44635682],\n",
       "       [ 0.90892018, -1.49814775],\n",
       "       [-2.97247309,  0.66198774],\n",
       "       [-2.38514409,  0.07153265],\n",
       "       [-2.30949306,  0.32323638],\n",
       "       [ 0.99225782, -0.34574201],\n",
       "       [-0.10971426,  0.06499922]])"
      ]
     },
     "execution_count": 37,
     "metadata": {},
     "output_type": "execute_result"
    }
   ],
   "source": [
    "x"
   ]
  },
  {
   "cell_type": "code",
   "execution_count": 38,
   "id": "13652de8",
   "metadata": {},
   "outputs": [
    {
     "data": {
      "text/plain": [
       "(100,)"
      ]
     },
     "execution_count": 38,
     "metadata": {},
     "output_type": "execute_result"
    }
   ],
   "source": [
    "y.shape"
   ]
  },
  {
   "cell_type": "code",
   "execution_count": 39,
   "id": "1dcdab5f",
   "metadata": {},
   "outputs": [
    {
     "data": {
      "text/plain": [
       "<matplotlib.collections.PathCollection at 0x2e066480ee0>"
      ]
     },
     "execution_count": 39,
     "metadata": {},
     "output_type": "execute_result"
    },
    {
     "data": {
      "image/png": "[encoded data removed]",
      "text/plain": [
       "<Figure size 432x288 with 1 Axes>"
      ]
     },
     "metadata": {
      "needs_background": "light"
     },
     "output_type": "display_data"
    }
   ],
   "source": [
    "import matplotlib.pyplot as plt \n",
    "plt.scatter(x[:,0],x[:,1],c=y,cmap='winter',s=100)"
   ]
  },
  {
   "cell_type": "code",
   "execution_count": 42,
   "id": "f713a7b2",
   "metadata": {},
   "outputs": [],
   "source": [
    "def perceptron(X,y):\n",
    "    \n",
    "    w1=w2=b=1\n",
    "    lr = 0.1\n",
    "    \n",
    "    for j in range(1000):\n",
    "    \n",
    "        for i in range(X.shape[0]):\n",
    "\n",
    "            # check condition\n",
    "            z = w1*X[i][0] + w2*X[i][1] + b\n",
    "\n",
    "            if z*y[i] < 0:\n",
    "                w1 = w1 + lr*y[i]*X[i][0]\n",
    "                w2 = w2 + lr*y[i]*X[i][1]\n",
    "                b = b + lr*y[i]\n",
    "            \n",
    "    return w1,w2,b"
   ]
  },
  {
   "cell_type": "code",
   "execution_count": 51,
   "id": "8b30777c",
   "metadata": {},
   "outputs": [],
   "source": [
    "w1 , w2 , b = perceptron(x,y)"
   ]
  },
  {
   "cell_type": "code",
   "execution_count": 44,
   "id": "519fd7cd",
   "metadata": {},
   "outputs": [
    {
     "data": {
      "text/plain": [
       "1.006638570722407"
      ]
     },
     "execution_count": 44,
     "metadata": {},
     "output_type": "execute_result"
    }
   ],
   "source": [
    "w1"
   ]
  },
  {
   "cell_type": "code",
   "execution_count": 45,
   "id": "9d9af77c",
   "metadata": {},
   "outputs": [
    {
     "data": {
      "text/plain": [
       "0.22215119727529098"
      ]
     },
     "execution_count": 45,
     "metadata": {},
     "output_type": "execute_result"
    }
   ],
   "source": [
    "w2"
   ]
  },
  {
   "cell_type": "code",
   "execution_count": 46,
   "id": "d049b360",
   "metadata": {},
   "outputs": [
    {
     "data": {
      "text/plain": [
       "1.3000000000000003"
      ]
     },
     "execution_count": 46,
     "metadata": {},
     "output_type": "execute_result"
    }
   ],
   "source": [
    "b"
   ]
  },
  {
   "cell_type": "code",
   "execution_count": 47,
   "id": "8ce0eee6",
   "metadata": {},
   "outputs": [
    {
     "name": "stdout",
     "output_type": "stream",
     "text": [
      "-4.531321834268464 -5.851870329508209\n"
     ]
    }
   ],
   "source": [
    "m = -(w1/w2)\n",
    "c = -(b/w2)\n",
    "\n",
    "print(m,c)"
   ]
  },
  {
   "cell_type": "code",
   "execution_count": 50,
   "id": "cf9d138d",
   "metadata": {},
   "outputs": [
    {
     "data": {
      "text/plain": [
       "(-3.0, 2.0)"
      ]
     },
     "execution_count": 50,
     "metadata": {},
     "output_type": "execute_result"
    },
    {
     "data": {
      "image/png": "[encoded data removed]",
      "text/plain": [
       "<Figure size 720x432 with 1 Axes>"
      ]
     },
     "metadata": {
      "needs_background": "light"
     },
     "output_type": "display_data"
    }
   ],
   "source": [
    "x_input = np.linspace(-3,3,100)\n",
    "y_input = m*x_input + c\n",
    "\n",
    "plt.figure(figsize=(10,6))\n",
    "plt.plot(x_input,y_input,color='red',linewidth=3)\n",
    "plt.scatter(x[:,0],x[:,1],c=y,cmap='winter',s=100)\n",
    "plt.ylim(-3,2)"
   ]
  },
  {
   "cell_type": "code",
   "execution_count": null,
   "id": "9497c83e",
   "metadata": {},
   "outputs": [],
   "source": []
  }
 ],
 "metadata": {
  "kernelspec": {
   "display_name": "Python 3 (ipykernel)",
   "language": "python",
   "name": "python3"
  },
  "language_info": {
   "codemirror_mode": {
    "name": "ipython",
    "version": 3
   },
   "file_extension": ".py",
   "mimetype": "text/x-python",
   "name": "python",
   "nbconvert_exporter": "python",
   "pygments_lexer": "ipython3",
   "version": "3.9.12"
  }
 },
 "nbformat": 4,
 "nbformat_minor": 5
}
