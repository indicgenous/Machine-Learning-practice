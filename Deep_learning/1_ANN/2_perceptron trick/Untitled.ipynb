{
 "cells": [
  {
   "cell_type": "code",
   "execution_count": 1,
   "id": "85644a09",
   "metadata": {},
   "outputs": [],
   "source": [
    "import numpy as np\n",
    "from sklearn.datasets import make_classification\n",
    "import matplotlib.pyplot as plt"
   ]
  },
  {
   "cell_type": "code",
   "execution_count": 61,
   "id": "cdf0140d",
   "metadata": {},
   "outputs": [
    {
     "data": {
      "text/plain": [
       "array([[ 0.19924745, -0.11697552],\n",
       "       [-0.24882029, -0.73115232],\n",
       "       [-0.3544904 , -0.7081059 ],\n",
       "       [-1.59086506, -2.01199214],\n",
       "       [-0.20083951,  1.63493163],\n",
       "       [-0.83241122,  0.15599044],\n",
       "       [-1.79207014,  1.07782053],\n",
       "       [ 0.0856607 ,  0.80626713],\n",
       "       [-0.55865299,  0.74859527],\n",
       "       [-1.95974262,  0.75152794],\n",
       "       [-1.77828947, -0.90114581],\n",
       "       [-1.77985853, -0.1815243 ],\n",
       "       [-0.02194151, -2.98092432],\n",
       "       [ 0.80563431,  1.20500136],\n",
       "       [-1.82701214,  0.78302407],\n",
       "       [ 0.38730728,  0.42968688],\n",
       "       [-0.14108668, -0.73229726],\n",
       "       [-1.87955941, -0.83930476],\n",
       "       [-0.18232911,  0.83727062],\n",
       "       [-1.77059533, -0.10255323],\n",
       "       [-2.27658028,  0.65867001],\n",
       "       [-2.06519502,  0.92649819],\n",
       "       [-1.31690551,  0.10216193],\n",
       "       [ 1.61043259,  0.46886454],\n",
       "       [-1.21650394,  0.45432938],\n",
       "       [ 0.6139723 ,  1.8613386 ],\n",
       "       [-1.78760957, -0.79255991],\n",
       "       [-1.04149161, -1.0004391 ],\n",
       "       [-2.40067584, -0.53814137],\n",
       "       [-1.80383452,  0.44027716],\n",
       "       [-1.44075613,  0.27047889],\n",
       "       [ 1.34989978, -0.75869267],\n",
       "       [ 0.22520167,  0.6802322 ],\n",
       "       [ 0.53688527,  0.17018845],\n",
       "       [ 0.55483459, -1.01121977],\n",
       "       [-0.32178185, -0.8394709 ],\n",
       "       [-0.98821248,  0.90327412],\n",
       "       [ 0.67394805,  1.16981747],\n",
       "       [-1.60913592,  0.53461406],\n",
       "       [ 0.75727194, -0.22100631],\n",
       "       [-1.32591376, -0.64584571],\n",
       "       [-0.91783293,  0.21243302],\n",
       "       [-1.35578147,  0.98654083],\n",
       "       [ 1.46869659,  0.67382928],\n",
       "       [-0.80540713, -0.11323563],\n",
       "       [ 1.08059816,  0.91694693],\n",
       "       [ 0.14667326,  0.3645213 ],\n",
       "       [-1.37324548, -0.78470874],\n",
       "       [-1.09742089, -1.48004137],\n",
       "       [-0.92017476,  0.72931763],\n",
       "       [ 0.22020513, -0.60000139],\n",
       "       [-0.3515292 ,  0.14720034],\n",
       "       [-1.42135667,  0.35215601],\n",
       "       [ 0.94415309,  0.17388705],\n",
       "       [ 2.14488191, -0.17162755],\n",
       "       [-1.52699536,  0.03763193],\n",
       "       [ 1.0347932 ,  0.48360467],\n",
       "       [-2.05551135, -0.07909256],\n",
       "       [-1.33241395,  0.06158897],\n",
       "       [-0.10615042, -1.20413846],\n",
       "       [ 0.89910594,  0.77324391],\n",
       "       [-1.32152694,  0.7640092 ],\n",
       "       [-1.96489671,  1.57200032],\n",
       "       [ 0.97099786,  0.47296516],\n",
       "       [ 0.0520771 ,  0.0642074 ],\n",
       "       [-0.66393984,  1.52469135],\n",
       "       [-1.8937672 , -2.1450828 ],\n",
       "       [ 0.5941446 , -0.7701428 ],\n",
       "       [-1.55261523,  0.84455766],\n",
       "       [-0.9998803 ,  1.29753064],\n",
       "       [-2.39664251, -0.84276652],\n",
       "       [ 0.27537438,  2.0615874 ],\n",
       "       [ 1.0723376 , -0.3036533 ],\n",
       "       [-1.4577388 , -0.1656085 ],\n",
       "       [ 1.06667457,  1.16969713],\n",
       "       [ 0.67498344, -0.3038555 ],\n",
       "       [-2.18254559, -0.4788978 ],\n",
       "       [ 0.96395115,  0.28128262],\n",
       "       [-1.3155857 ,  0.70412341],\n",
       "       [ 0.7158603 ,  0.3757601 ],\n",
       "       [-0.16186654,  0.97247545],\n",
       "       [ 1.341869  ,  0.56868381],\n",
       "       [-1.46023043, -0.39767934],\n",
       "       [ 1.37645492, -1.08933729],\n",
       "       [-0.35770727, -1.81663939],\n",
       "       [-1.8640534 ,  1.41775924],\n",
       "       [-1.7826468 ,  0.27098296],\n",
       "       [-1.18927817, -0.56186639],\n",
       "       [ 0.26654845,  0.42168159],\n",
       "       [-1.28809059, -2.95373116],\n",
       "       [ 0.75163482,  0.19492133],\n",
       "       [ 1.16254252, -0.04578681],\n",
       "       [-1.15890056, -0.18860967],\n",
       "       [-1.48693688,  0.44635682],\n",
       "       [ 0.75292818, -1.49814775],\n",
       "       [-2.12332717,  0.66198774],\n",
       "       [-1.53599817,  0.07153265],\n",
       "       [-1.46034714,  0.32323638],\n",
       "       [ 0.83626582, -0.34574201],\n",
       "       [-0.26570627,  0.06499922]])"
      ]
     },
     "execution_count": 61,
     "metadata": {},
     "output_type": "execute_result"
    }
   ],
   "source": [
    "x,y = make_classification(n_samples=100,n_features=2,n_informative=1,n_redundant=0,\n",
    "                     n_classes=2,n_clusters_per_class=1,random_state=41,hypercube=False,class_sep=10)\n",
    "x"
   ]
  },
  {
   "cell_type": "code",
   "execution_count": 62,
   "id": "1d91c447",
   "metadata": {
    "scrolled": true
   },
   "outputs": [
    {
     "data": {
      "text/plain": [
       "<matplotlib.collections.PathCollection at 0x1f26753fa60>"
      ]
     },
     "execution_count": 62,
     "metadata": {},
     "output_type": "execute_result"
    },
    {
     "data": {
      "image/png": "[encoded data removed]",
      "text/plain": [
       "<Figure size 432x288 with 1 Axes>"
      ]
     },
     "metadata": {
      "needs_background": "light"
     },
     "output_type": "display_data"
    }
   ],
   "source": [
    "plt.scatter(x[:,0],x[:,1],c=y,s=100,cmap='winter')"
   ]
  },
  {
   "cell_type": "code",
   "execution_count": 63,
   "id": "a92a98fb",
   "metadata": {},
   "outputs": [
    {
     "data": {
      "text/plain": [
       "1"
      ]
     },
     "execution_count": 63,
     "metadata": {},
     "output_type": "execute_result"
    }
   ],
   "source": [
    "def step(k) :\n",
    "   return 1 if k>0 else 0\n",
    "\n",
    "step(0.5)"
   ]
  },
  {
   "cell_type": "code",
   "execution_count": 64,
   "id": "e15cf090",
   "metadata": {},
   "outputs": [],
   "source": [
    "def perceptron(x,y):\n",
    "    x=np.insert(x,0,1,axis=1)\n",
    "    weights=np.ones(x.shape[1])\n",
    "    lr=0.1\n",
    "    epochs =1000\n",
    "    \n",
    "    for i in range (epochs):\n",
    "        j = np.random.randint(0,100)\n",
    "        y_hat = step(np.dot(x[j],weights))\n",
    "        weights = weights + lr*(y[j]-y_hat)*x[j]\n",
    "    \n",
    "    \n",
    "    return weights[0],weights[1:]\n",
    "        \n",
    "    "
   ]
  },
  {
   "cell_type": "code",
   "execution_count": 72,
   "id": "c74f2e06",
   "metadata": {},
   "outputs": [],
   "source": [
    "#  VISUALIZATION\n",
    "\n",
    "# lr=0.1\n",
    "# x=np.insert(x,0,1,axis=1)\n",
    "# weights=np.ones(x.shape[1])\n",
    "# print(weights)\n",
    "# y_hat = step(np.dot(x[41],weights))\n",
    "# print(y_hat)\n",
    "# print(lr*(y[41]-y_hat)*x[41])\n",
    "# weights = weights + lr*(y[41]-y_hat)*x[41]\n",
    "# print(weights)"
   ]
  },
  {
   "cell_type": "code",
   "execution_count": 73,
   "id": "80c4c788",
   "metadata": {},
   "outputs": [],
   "source": [
    "# x[41]"
   ]
  },
  {
   "cell_type": "code",
   "execution_count": 74,
   "id": "8b523d1c",
   "metadata": {},
   "outputs": [],
   "source": [
    "# y[41]"
   ]
  },
  {
   "cell_type": "code",
   "execution_count": 75,
   "id": "4f333136",
   "metadata": {},
   "outputs": [],
   "source": [
    "intercept_ ,coef_ = perceptron(x,y)"
   ]
  },
  {
   "cell_type": "code",
   "execution_count": 76,
   "id": "621dfb03",
   "metadata": {},
   "outputs": [
    {
     "data": {
      "text/plain": [
       "0.9"
      ]
     },
     "execution_count": 76,
     "metadata": {},
     "output_type": "execute_result"
    }
   ],
   "source": [
    "intercept_"
   ]
  },
  {
   "cell_type": "code",
   "execution_count": 77,
   "id": "f763ef1e",
   "metadata": {},
   "outputs": [
    {
     "data": {
      "text/plain": [
       "array([1.31179934, 0.18155069])"
      ]
     },
     "execution_count": 77,
     "metadata": {},
     "output_type": "execute_result"
    }
   ],
   "source": [
    "coef_"
   ]
  },
  {
   "cell_type": "code",
   "execution_count": 78,
   "id": "005df783",
   "metadata": {},
   "outputs": [],
   "source": [
    "m = -coef_[0]/coef_[1] \n",
    "b = -intercept_/coef_[1]"
   ]
  },
  {
   "cell_type": "code",
   "execution_count": null,
   "id": "fceea640",
   "metadata": {},
   "outputs": [],
   "source": [
    "x_input = ?? \n",
    "y_input = m*x_input*b"
   ]
  }
 ],
 "metadata": {
  "kernelspec": {
   "display_name": "Python 3 (ipykernel)",
   "language": "python",
   "name": "python3"
  },
  "language_info": {
   "codemirror_mode": {
    "name": "ipython",
    "version": 3
   },
   "file_extension": ".py",
   "mimetype": "text/x-python",
   "name": "python",
   "nbconvert_exporter": "python",
   "pygments_lexer": "ipython3",
   "version": "3.9.12"
  }
 },
 "nbformat": 4,
 "nbformat_minor": 5
}
